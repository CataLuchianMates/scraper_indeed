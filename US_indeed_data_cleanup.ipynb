{
 "cells": [
  {
   "cell_type": "code",
   "execution_count": 263,
   "metadata": {},
   "outputs": [],
   "source": [
    "import pandas as pd\n",
    "import numpy as np\n",
    "import re\n",
    "import gc\n",
    "\n",
    "from datetime import datetime, timedelta"
   ]
  },
  {
   "cell_type": "code",
   "execution_count": 2,
   "metadata": {},
   "outputs": [
    {
     "data": {
      "text/plain": [
       "svmem(total=17179869184, available=6245736448, percent=63.6, used=8584216576, free=698503168, active=5433950208, inactive=4199198720, wired=3150266368)"
      ]
     },
     "execution_count": 2,
     "metadata": {},
     "output_type": "execute_result"
    }
   ],
   "source": [
    "import psutil\n",
    "psutil.virtual_memory()"
   ]
  },
  {
   "cell_type": "markdown",
   "metadata": {},
   "source": [
    "# Definitions"
   ]
  },
  {
   "cell_type": "code",
   "execution_count": 350,
   "metadata": {},
   "outputs": [],
   "source": [
    "# Remove digits from location data so we have \"City, State\" format\n",
    "def remove_digits(df):\n",
    "    \"\"\"Remove digits from location\"\"\"\n",
    "    df[\"Location_Clean\"] = df[\"Location\"].replace(to_replace = r'\\d', value='', regex=True).str.rstrip()\n",
    "    \n",
    "    return df\n",
    "\n",
    "\n",
    "# Create a day index which will be used to calcultate when the job was posted\n",
    "def day_index(df):\n",
    "    \"\"\"Create a day index that represents how long ago the job was posted \"\"\"\n",
    "    \n",
    "    df_dummy = pd.DataFrame()\n",
    "    df_dummy[\"Day Index\"] = df[\"Date\"].str.split(\" \", expand=True).get(0)\n",
    "    df[\"Day Index\"] = df_dummy[\"Day Index\"].apply(lambda x: 0 if (x == 'Just' or x == 'Today') else x)\n",
    "    \n",
    "    return df"
   ]
  },
  {
   "cell_type": "markdown",
   "metadata": {},
   "source": [
    "# Clean location data for new week data"
   ]
  },
  {
   "cell_type": "code",
   "execution_count": 340,
   "metadata": {
    "scrolled": true
   },
   "outputs": [
    {
     "data": {
      "text/html": [
       "<div>\n",
       "<style scoped>\n",
       "    .dataframe tbody tr th:only-of-type {\n",
       "        vertical-align: middle;\n",
       "    }\n",
       "\n",
       "    .dataframe tbody tr th {\n",
       "        vertical-align: top;\n",
       "    }\n",
       "\n",
       "    .dataframe thead th {\n",
       "        text-align: right;\n",
       "    }\n",
       "</style>\n",
       "<table border=\"1\" class=\"dataframe\">\n",
       "  <thead>\n",
       "    <tr style=\"text-align: right;\">\n",
       "      <th></th>\n",
       "      <th>Title</th>\n",
       "      <th>Location</th>\n",
       "      <th>Company</th>\n",
       "      <th>Rating</th>\n",
       "      <th>Salary</th>\n",
       "      <th>Sponsored</th>\n",
       "      <th>Date</th>\n",
       "      <th>As of Date</th>\n",
       "      <th>Description</th>\n",
       "      <th>Industry</th>\n",
       "    </tr>\n",
       "  </thead>\n",
       "  <tbody>\n",
       "    <tr>\n",
       "      <td>0</td>\n",
       "      <td>Data Scientist Entry Level - Pathrise Recruiti...</td>\n",
       "      <td>Remote</td>\n",
       "      <td>Pathrise</td>\n",
       "      <td>None</td>\n",
       "      <td>None</td>\n",
       "      <td>None</td>\n",
       "      <td>22 days ago</td>\n",
       "      <td>2020-04-26</td>\n",
       "      <td>What is Pathrise Recruiting Partners?\\n\\nPathr...</td>\n",
       "      <td>Datascience</td>\n",
       "    </tr>\n",
       "    <tr>\n",
       "      <td>1</td>\n",
       "      <td>Data Science Analyst</td>\n",
       "      <td>Ann Arbor, MI</td>\n",
       "      <td>Domino's</td>\n",
       "      <td>3.6</td>\n",
       "      <td>None</td>\n",
       "      <td>None</td>\n",
       "      <td>30+ days ago</td>\n",
       "      <td>2020-04-26</td>\n",
       "      <td>Domino’s Pizza, which began in 1960 as a singl...</td>\n",
       "      <td>Datascience</td>\n",
       "    </tr>\n",
       "    <tr>\n",
       "      <td>2</td>\n",
       "      <td>Junior Data Scientist</td>\n",
       "      <td>New York, NY</td>\n",
       "      <td>1-800-Flowers</td>\n",
       "      <td>3.7</td>\n",
       "      <td>None</td>\n",
       "      <td>None</td>\n",
       "      <td>10 days ago</td>\n",
       "      <td>2020-04-26</td>\n",
       "      <td>As part of the NYC Innovation Team located in ...</td>\n",
       "      <td>Datascience</td>\n",
       "    </tr>\n",
       "    <tr>\n",
       "      <td>3</td>\n",
       "      <td>Data Scientist/Analytics Consultant</td>\n",
       "      <td>Arlington, VA</td>\n",
       "      <td>Deloitte</td>\n",
       "      <td>4.0</td>\n",
       "      <td>None</td>\n",
       "      <td>None</td>\n",
       "      <td>12 days ago</td>\n",
       "      <td>2020-04-26</td>\n",
       "      <td>Are you an analytical, data-driven professiona...</td>\n",
       "      <td>Datascience</td>\n",
       "    </tr>\n",
       "    <tr>\n",
       "      <td>4</td>\n",
       "      <td>Data Science &amp; Analytics</td>\n",
       "      <td>South Jordan, UT</td>\n",
       "      <td>Digital Trike</td>\n",
       "      <td>None</td>\n",
       "      <td>None</td>\n",
       "      <td>None</td>\n",
       "      <td>30+ days ago</td>\n",
       "      <td>2020-04-26</td>\n",
       "      <td>As much as you’re a master at rigorous mining,...</td>\n",
       "      <td>Datascience</td>\n",
       "    </tr>\n",
       "  </tbody>\n",
       "</table>\n",
       "</div>"
      ],
      "text/plain": [
       "                                               Title          Location  \\\n",
       "0  Data Scientist Entry Level - Pathrise Recruiti...            Remote   \n",
       "1                               Data Science Analyst     Ann Arbor, MI   \n",
       "2                              Junior Data Scientist      New York, NY   \n",
       "3                Data Scientist/Analytics Consultant     Arlington, VA   \n",
       "4                           Data Science & Analytics  South Jordan, UT   \n",
       "\n",
       "         Company Rating Salary Sponsored          Date  As of Date  \\\n",
       "0       Pathrise   None   None      None   22 days ago  2020-04-26   \n",
       "1       Domino's    3.6   None      None  30+ days ago  2020-04-26   \n",
       "2  1-800-Flowers    3.7   None      None   10 days ago  2020-04-26   \n",
       "3       Deloitte    4.0   None      None   12 days ago  2020-04-26   \n",
       "4  Digital Trike   None   None      None  30+ days ago  2020-04-26   \n",
       "\n",
       "                                         Description     Industry  \n",
       "0  What is Pathrise Recruiting Partners?\\n\\nPathr...  Datascience  \n",
       "1  Domino’s Pizza, which began in 1960 as a singl...  Datascience  \n",
       "2  As part of the NYC Innovation Team located in ...  Datascience  \n",
       "3  Are you an analytical, data-driven professiona...  Datascience  \n",
       "4  As much as you’re a master at rigorous mining,...  Datascience  "
      ]
     },
     "execution_count": 340,
     "metadata": {},
     "output_type": "execute_result"
    }
   ],
   "source": [
    "df_usa_april_week3 = pd.read_csv('df_usa_april_week3.csv')\n",
    "\n",
    "### Create a locationations df to be mapped back into original df \n",
    "location = pd.DataFrame(df_usa_april_week3['Location'].str.split(\">\", expand=True).get(1).str.split(\"<\", expand=True).get(0))\n",
    "location = location.rename(columns={0: 'Location'})\n",
    "\n",
    "### Runs the remove digits function from locationation column\n",
    "location.pipe(remove_digits)\n",
    "\n",
    "df_usa_april_week3[\"Location\"] = location[\"Location_Clean\"]\n",
    "\n",
    "df_usa_april_week3.head()"
   ]
  },
  {
   "cell_type": "markdown",
   "metadata": {},
   "source": [
    "### Remove 30+ Days old jobs for the purpose of understanding trends in job postings counts"
   ]
  },
  {
   "cell_type": "code",
   "execution_count": 341,
   "metadata": {
    "scrolled": false
   },
   "outputs": [
    {
     "name": "stdout",
     "output_type": "stream",
     "text": [
      "Unique jobs in usa as of week 3: 12938\n",
      "Unique jobs in usa as of week 3 but not including old jobs: 5377\n"
     ]
    },
    {
     "data": {
      "text/html": [
       "<div>\n",
       "<style scoped>\n",
       "    .dataframe tbody tr th:only-of-type {\n",
       "        vertical-align: middle;\n",
       "    }\n",
       "\n",
       "    .dataframe tbody tr th {\n",
       "        vertical-align: top;\n",
       "    }\n",
       "\n",
       "    .dataframe thead th {\n",
       "        text-align: right;\n",
       "    }\n",
       "</style>\n",
       "<table border=\"1\" class=\"dataframe\">\n",
       "  <thead>\n",
       "    <tr style=\"text-align: right;\">\n",
       "      <th></th>\n",
       "      <th>Title</th>\n",
       "      <th>Location</th>\n",
       "      <th>Company</th>\n",
       "      <th>Rating</th>\n",
       "      <th>Salary</th>\n",
       "      <th>Sponsored</th>\n",
       "      <th>Date</th>\n",
       "      <th>As of Date</th>\n",
       "      <th>Description</th>\n",
       "      <th>Industry</th>\n",
       "      <th>Day Index</th>\n",
       "      <th>Date Posted</th>\n",
       "    </tr>\n",
       "  </thead>\n",
       "  <tbody>\n",
       "    <tr>\n",
       "      <td>0</td>\n",
       "      <td>Data Scientist Entry Level - Pathrise Recruiti...</td>\n",
       "      <td>Remote</td>\n",
       "      <td>Pathrise</td>\n",
       "      <td>None</td>\n",
       "      <td>None</td>\n",
       "      <td>None</td>\n",
       "      <td>22 days ago</td>\n",
       "      <td>2020-04-26</td>\n",
       "      <td>What is Pathrise Recruiting Partners?\\n\\nPathr...</td>\n",
       "      <td>Datascience</td>\n",
       "      <td>22.0</td>\n",
       "      <td>2020-04-04</td>\n",
       "    </tr>\n",
       "    <tr>\n",
       "      <td>2</td>\n",
       "      <td>Junior Data Scientist</td>\n",
       "      <td>New York, NY</td>\n",
       "      <td>1-800-Flowers</td>\n",
       "      <td>3.7</td>\n",
       "      <td>None</td>\n",
       "      <td>None</td>\n",
       "      <td>10 days ago</td>\n",
       "      <td>2020-04-26</td>\n",
       "      <td>As part of the NYC Innovation Team located in ...</td>\n",
       "      <td>Datascience</td>\n",
       "      <td>10.0</td>\n",
       "      <td>2020-04-16</td>\n",
       "    </tr>\n",
       "    <tr>\n",
       "      <td>3</td>\n",
       "      <td>Data Scientist/Analytics Consultant</td>\n",
       "      <td>Arlington, VA</td>\n",
       "      <td>Deloitte</td>\n",
       "      <td>4.0</td>\n",
       "      <td>None</td>\n",
       "      <td>None</td>\n",
       "      <td>12 days ago</td>\n",
       "      <td>2020-04-26</td>\n",
       "      <td>Are you an analytical, data-driven professiona...</td>\n",
       "      <td>Datascience</td>\n",
       "      <td>12.0</td>\n",
       "      <td>2020-04-14</td>\n",
       "    </tr>\n",
       "    <tr>\n",
       "      <td>5</td>\n",
       "      <td>Data Scientist Analyst</td>\n",
       "      <td>Sunnyvale, CA</td>\n",
       "      <td>LOCKHEED MARTIN CORPORATION</td>\n",
       "      <td>4.0</td>\n",
       "      <td>None</td>\n",
       "      <td>None</td>\n",
       "      <td>2 days ago</td>\n",
       "      <td>2020-04-26</td>\n",
       "      <td>Perform exploratory research and analysis to i...</td>\n",
       "      <td>Datascience</td>\n",
       "      <td>2.0</td>\n",
       "      <td>2020-04-24</td>\n",
       "    </tr>\n",
       "    <tr>\n",
       "      <td>6</td>\n",
       "      <td>Data Science Intern (Summer, 2020)</td>\n",
       "      <td>Westfield Center, OH</td>\n",
       "      <td>Westfield Insurance</td>\n",
       "      <td>4.0</td>\n",
       "      <td>None</td>\n",
       "      <td>None</td>\n",
       "      <td>1 day ago</td>\n",
       "      <td>2020-04-26</td>\n",
       "      <td>BUILD YOUR FUTURE, WHILE PROTECTING THEIRS.\\nY...</td>\n",
       "      <td>Datascience</td>\n",
       "      <td>1.0</td>\n",
       "      <td>2020-04-25</td>\n",
       "    </tr>\n",
       "  </tbody>\n",
       "</table>\n",
       "</div>"
      ],
      "text/plain": [
       "                                               Title              Location  \\\n",
       "0  Data Scientist Entry Level - Pathrise Recruiti...                Remote   \n",
       "2                              Junior Data Scientist          New York, NY   \n",
       "3                Data Scientist/Analytics Consultant         Arlington, VA   \n",
       "5                             Data Scientist Analyst         Sunnyvale, CA   \n",
       "6                 Data Science Intern (Summer, 2020)  Westfield Center, OH   \n",
       "\n",
       "                       Company Rating Salary Sponsored         Date  \\\n",
       "0                     Pathrise   None   None      None  22 days ago   \n",
       "2                1-800-Flowers    3.7   None      None  10 days ago   \n",
       "3                     Deloitte    4.0   None      None  12 days ago   \n",
       "5  LOCKHEED MARTIN CORPORATION    4.0   None      None   2 days ago   \n",
       "6          Westfield Insurance    4.0   None      None    1 day ago   \n",
       "\n",
       "  As of Date                                        Description     Industry  \\\n",
       "0 2020-04-26  What is Pathrise Recruiting Partners?\\n\\nPathr...  Datascience   \n",
       "2 2020-04-26  As part of the NYC Innovation Team located in ...  Datascience   \n",
       "3 2020-04-26  Are you an analytical, data-driven professiona...  Datascience   \n",
       "5 2020-04-26  Perform exploratory research and analysis to i...  Datascience   \n",
       "6 2020-04-26  BUILD YOUR FUTURE, WHILE PROTECTING THEIRS.\\nY...  Datascience   \n",
       "\n",
       "   Day Index Date Posted  \n",
       "0       22.0  2020-04-04  \n",
       "2       10.0  2020-04-16  \n",
       "3       12.0  2020-04-14  \n",
       "5        2.0  2020-04-24  \n",
       "6        1.0  2020-04-25  "
      ]
     },
     "execution_count": 341,
     "metadata": {},
     "output_type": "execute_result"
    }
   ],
   "source": [
    "df_usa_filter_april_week3=df_usa_april_week3.copy()[df_usa_april_week3[\"Date\"]!='30+ days ago']\n",
    "\n",
    "print(\"Unique jobs in usa as of week 3: \" + str(df_usa_april_week3.shape[0]))\n",
    "print(\"Unique jobs in usa as of week 3 but not including old jobs: \" + str(df_usa_filter_april_week3.shape[0]))\n",
    "\n",
    "\n",
    "# Create a day index to be used in created \"Date Posted\"\n",
    "df_usa_filter_april_week3.pipe(day_index).head()\n",
    "\n",
    "# Format variables\n",
    "df_usa_filter_april_week3[\"Day Index\"]=df_usa_filter_april_week3[\"Day Index\"].astype(float)\n",
    "df_usa_filter_april_week3[\"As of Date\"] = pd.to_datetime(df_usa_filter_april_week3[\"As of Date\"])\n",
    "\n",
    "# Create Date Posted variable representing the date on which the job was posted \n",
    "df_usa_filter_april_week3[\"Date Posted\"] = df_usa_filter_april_week3[\"As of Date\"] - pd.to_timedelta(df_usa_filter_april_week3[\"Day Index\"], unit='d')\n",
    "\n",
    "df_usa_filter_april_week3.head()"
   ]
  },
  {
   "cell_type": "markdown",
   "metadata": {},
   "source": [
    "## Test if the number of postings counts by Date Posted and Location makes sense"
   ]
  },
  {
   "cell_type": "code",
   "execution_count": 348,
   "metadata": {},
   "outputs": [
    {
     "data": {
      "text/plain": [
       "Date Posted\n",
       "2020-04-22    305\n",
       "2020-04-23    384\n",
       "2020-04-24    419\n",
       "2020-04-25    508\n",
       "2020-04-26    165\n",
       "2020-04-27    312\n",
       "2020-04-28    180\n",
       "2020-04-29    167\n",
       "2020-04-30    237\n",
       "2020-05-01    468\n",
       "Name: Title, dtype: int64"
      ]
     },
     "execution_count": 348,
     "metadata": {},
     "output_type": "execute_result"
    }
   ],
   "source": [
    "counts_april = df_usa_filter_april_week3.groupby('Date Posted').count()[\"Title\"]\n",
    "counts_april.tail(10)"
   ]
  },
  {
   "cell_type": "code",
   "execution_count": 347,
   "metadata": {},
   "outputs": [
    {
     "data": {
      "text/plain": [
       "Location\n",
       "New York, NY         140\n",
       "Washington, DC        81\n",
       "Seattle, WA           75\n",
       "Chicago, IL           66\n",
       "San Francisco, CA     64\n",
       "Atlanta, GA           59\n",
       "United States         55\n",
       "Remote                48\n",
       "Charlotte, NC         44\n",
       "Dallas, TX            44\n",
       "Name: Title, dtype: int64"
      ]
     },
     "execution_count": 347,
     "metadata": {},
     "output_type": "execute_result"
    }
   ],
   "source": [
    "df_usa_filter_april_week3.groupby(\"Location\").count()[\"Title\"].sort_values(ascending=False).head(10)"
   ]
  },
  {
   "cell_type": "code",
   "execution_count": 349,
   "metadata": {},
   "outputs": [
    {
     "data": {
      "text/plain": [
       "Date Posted\n",
       "2020-04-19     47\n",
       "2020-04-20     23\n",
       "2020-04-21    218\n",
       "2020-04-22    305\n",
       "2020-04-23    384\n",
       "2020-04-24    419\n",
       "2020-04-25    508\n",
       "Name: Title, dtype: int64"
      ]
     },
     "execution_count": 349,
     "metadata": {},
     "output_type": "execute_result"
    }
   ],
   "source": [
    "df_usa_filter_april_week3_formerge=df_usa_filter_april_week3.copy()[(df_usa_filter_april_week3[\"Date Posted\"] >= datetime(2020,4,19)) &\n",
    "                                                    (df_usa_filter_april_week3[\"Date Posted\"] <= datetime(2020,4,25))]\n",
    "\n",
    "counts_april = df_usa_filter_april_week3_formerge.groupby('Date Posted').count()[\"Title\"]\n",
    "counts_april"
   ]
  },
  {
   "cell_type": "markdown",
   "metadata": {},
   "source": [
    "# Import the dataset needed to be merged with the new week data"
   ]
  },
  {
   "cell_type": "code",
   "execution_count": 354,
   "metadata": {},
   "outputs": [
    {
     "data": {
      "text/plain": [
       "Title                  object\n",
       "Company                object\n",
       "Rating                 object\n",
       "Salary                 object\n",
       "Sponsored              object\n",
       "Date                   object\n",
       "As of Date     datetime64[ns]\n",
       "Description            object\n",
       "Industry               object\n",
       "Location               object\n",
       "Day Index               int64\n",
       "Date Posted    datetime64[ns]\n",
       "dtype: object"
      ]
     },
     "execution_count": 354,
     "metadata": {},
     "output_type": "execute_result"
    }
   ],
   "source": [
    "df_usa=pd.read_csv('df_usa_april_week2_merged_no30days.csv')\n",
    "\n",
    "# Set the format of the variables\n",
    "df_usa[\"Date Posted\"]=pd.to_datetime(df_usa[\"Date Posted\"])\n",
    "df_usa[\"As of Date\"]=pd.to_datetime(df_usa[\"As of Date\"])\n",
    "df_usa[\"Day Index\"]=df_usa[\"Day Index\"].astype(int)\n",
    "\n",
    "df_usa.dtypes"
   ]
  },
  {
   "cell_type": "code",
   "execution_count": 359,
   "metadata": {},
   "outputs": [
    {
     "name": "stdout",
     "output_type": "stream",
     "text": [
      "Total number of job postings: 14203\n",
      "Total number of unique job postings: 12299\n"
     ]
    }
   ],
   "source": [
    "# Merge the two datasets\n",
    "\n",
    "df_usa_total=pd.concat([df_usa_filter_april_week3_formerge,df_usa], axis=0, ignore_index=True, sort = False)\n",
    "print(\"Total number of job postings: \" +   str(df_usa_total.shape[0]))\n",
    "\n",
    "df_usa=df_usa_total.drop_duplicates()\n",
    "print(\"Total number of unique job postings: \" + str(df_usa.shape[0]))"
   ]
  },
  {
   "cell_type": "code",
   "execution_count": 361,
   "metadata": {},
   "outputs": [
    {
     "data": {
      "text/plain": [
       "Date Posted\n",
       "2020-03-04    122\n",
       "2020-03-05    119\n",
       "2020-03-06    192\n",
       "2020-03-07    180\n",
       "2020-03-08     61\n",
       "2020-03-09     27\n",
       "2020-03-10    191\n",
       "2020-03-11    246\n",
       "2020-03-12    251\n",
       "2020-03-13    211\n",
       "2020-03-14    180\n",
       "2020-03-15     35\n",
       "2020-03-16     31\n",
       "2020-03-17    132\n",
       "2020-03-18    208\n",
       "2020-03-19    234\n",
       "2020-03-20    228\n",
       "2020-03-21    245\n",
       "2020-03-22     69\n",
       "2020-03-23     32\n",
       "2020-03-24    246\n",
       "2020-03-25    304\n",
       "2020-03-26    272\n",
       "2020-03-27    317\n",
       "2020-03-28    332\n",
       "2020-03-29    104\n",
       "2020-03-30     44\n",
       "2020-03-31    387\n",
       "2020-04-01    508\n",
       "2020-04-02    615\n",
       "2020-04-03    394\n",
       "2020-04-04    416\n",
       "2020-04-05     72\n",
       "2020-04-06     38\n",
       "2020-04-07    232\n",
       "2020-04-08    315\n",
       "2020-04-09    343\n",
       "2020-04-10    380\n",
       "2020-04-11    364\n",
       "2020-04-12     62\n",
       "2020-04-13     27\n",
       "2020-04-14    203\n",
       "2020-04-15    331\n",
       "2020-04-16    312\n",
       "2020-04-17    300\n",
       "2020-04-18    484\n",
       "2020-04-19     47\n",
       "2020-04-20     23\n",
       "2020-04-21    217\n",
       "2020-04-22    305\n",
       "2020-04-23    384\n",
       "2020-04-24    419\n",
       "2020-04-25    508\n",
       "Name: Title, dtype: int64"
      ]
     },
     "execution_count": 361,
     "metadata": {},
     "output_type": "execute_result"
    }
   ],
   "source": [
    "# Test if the numbed of job counts by Date Posted make sense\n",
    "\n",
    "df_usa.groupby(\"Date Posted\").count()[\"Title\"]"
   ]
  },
  {
   "cell_type": "markdown",
   "metadata": {},
   "source": [
    "## Export the merged dataset"
   ]
  },
  {
   "cell_type": "code",
   "execution_count": 363,
   "metadata": {},
   "outputs": [],
   "source": [
    "df_usa.to_csv('df_usa_april_week3_merged_no30days.csv')"
   ]
  }
 ],
 "metadata": {
  "kernelspec": {
   "display_name": "Python 3",
   "language": "python",
   "name": "python3"
  },
  "language_info": {
   "codemirror_mode": {
    "name": "ipython",
    "version": 3
   },
   "file_extension": ".py",
   "mimetype": "text/x-python",
   "name": "python",
   "nbconvert_exporter": "python",
   "pygments_lexer": "ipython3",
   "version": "3.7.4"
  }
 },
 "nbformat": 4,
 "nbformat_minor": 2
}
